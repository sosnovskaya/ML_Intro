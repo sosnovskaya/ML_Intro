{
 "cells": [
  {
   "cell_type": "code",
   "execution_count": 22,
   "metadata": {},
   "outputs": [
    {
     "data": {
      "text/html": [
       "<div>\n",
       "<style scoped>\n",
       "    .dataframe tbody tr th:only-of-type {\n",
       "        vertical-align: middle;\n",
       "    }\n",
       "\n",
       "    .dataframe tbody tr th {\n",
       "        vertical-align: top;\n",
       "    }\n",
       "\n",
       "    .dataframe thead th {\n",
       "        text-align: right;\n",
       "    }\n",
       "</style>\n",
       "<table border=\"1\" class=\"dataframe\">\n",
       "  <thead>\n",
       "    <tr style=\"text-align: right;\">\n",
       "      <th></th>\n",
       "      <th>Survived</th>\n",
       "      <th>Pclass</th>\n",
       "      <th>Name</th>\n",
       "      <th>Sex</th>\n",
       "      <th>Age</th>\n",
       "      <th>SibSp</th>\n",
       "      <th>Parch</th>\n",
       "      <th>Ticket</th>\n",
       "      <th>Fare</th>\n",
       "      <th>Cabin</th>\n",
       "      <th>Embarked</th>\n",
       "    </tr>\n",
       "    <tr>\n",
       "      <th>PassengerId</th>\n",
       "      <th></th>\n",
       "      <th></th>\n",
       "      <th></th>\n",
       "      <th></th>\n",
       "      <th></th>\n",
       "      <th></th>\n",
       "      <th></th>\n",
       "      <th></th>\n",
       "      <th></th>\n",
       "      <th></th>\n",
       "      <th></th>\n",
       "    </tr>\n",
       "  </thead>\n",
       "  <tbody>\n",
       "    <tr>\n",
       "      <th>1</th>\n",
       "      <td>0</td>\n",
       "      <td>3</td>\n",
       "      <td>Braund, Mr. Owen Harris</td>\n",
       "      <td>male</td>\n",
       "      <td>22.0</td>\n",
       "      <td>1</td>\n",
       "      <td>0</td>\n",
       "      <td>A/5 21171</td>\n",
       "      <td>7.2500</td>\n",
       "      <td>NaN</td>\n",
       "      <td>S</td>\n",
       "    </tr>\n",
       "    <tr>\n",
       "      <th>2</th>\n",
       "      <td>1</td>\n",
       "      <td>1</td>\n",
       "      <td>Cumings, Mrs. John Bradley (Florence Briggs Th...</td>\n",
       "      <td>female</td>\n",
       "      <td>38.0</td>\n",
       "      <td>1</td>\n",
       "      <td>0</td>\n",
       "      <td>PC 17599</td>\n",
       "      <td>71.2833</td>\n",
       "      <td>C85</td>\n",
       "      <td>C</td>\n",
       "    </tr>\n",
       "    <tr>\n",
       "      <th>3</th>\n",
       "      <td>1</td>\n",
       "      <td>3</td>\n",
       "      <td>Heikkinen, Miss. Laina</td>\n",
       "      <td>female</td>\n",
       "      <td>26.0</td>\n",
       "      <td>0</td>\n",
       "      <td>0</td>\n",
       "      <td>STON/O2. 3101282</td>\n",
       "      <td>7.9250</td>\n",
       "      <td>NaN</td>\n",
       "      <td>S</td>\n",
       "    </tr>\n",
       "    <tr>\n",
       "      <th>4</th>\n",
       "      <td>1</td>\n",
       "      <td>1</td>\n",
       "      <td>Futrelle, Mrs. Jacques Heath (Lily May Peel)</td>\n",
       "      <td>female</td>\n",
       "      <td>35.0</td>\n",
       "      <td>1</td>\n",
       "      <td>0</td>\n",
       "      <td>113803</td>\n",
       "      <td>53.1000</td>\n",
       "      <td>C123</td>\n",
       "      <td>S</td>\n",
       "    </tr>\n",
       "    <tr>\n",
       "      <th>5</th>\n",
       "      <td>0</td>\n",
       "      <td>3</td>\n",
       "      <td>Allen, Mr. William Henry</td>\n",
       "      <td>male</td>\n",
       "      <td>35.0</td>\n",
       "      <td>0</td>\n",
       "      <td>0</td>\n",
       "      <td>373450</td>\n",
       "      <td>8.0500</td>\n",
       "      <td>NaN</td>\n",
       "      <td>S</td>\n",
       "    </tr>\n",
       "    <tr>\n",
       "      <th>6</th>\n",
       "      <td>0</td>\n",
       "      <td>3</td>\n",
       "      <td>Moran, Mr. James</td>\n",
       "      <td>male</td>\n",
       "      <td>NaN</td>\n",
       "      <td>0</td>\n",
       "      <td>0</td>\n",
       "      <td>330877</td>\n",
       "      <td>8.4583</td>\n",
       "      <td>NaN</td>\n",
       "      <td>Q</td>\n",
       "    </tr>\n",
       "    <tr>\n",
       "      <th>7</th>\n",
       "      <td>0</td>\n",
       "      <td>1</td>\n",
       "      <td>McCarthy, Mr. Timothy J</td>\n",
       "      <td>male</td>\n",
       "      <td>54.0</td>\n",
       "      <td>0</td>\n",
       "      <td>0</td>\n",
       "      <td>17463</td>\n",
       "      <td>51.8625</td>\n",
       "      <td>E46</td>\n",
       "      <td>S</td>\n",
       "    </tr>\n",
       "    <tr>\n",
       "      <th>8</th>\n",
       "      <td>0</td>\n",
       "      <td>3</td>\n",
       "      <td>Palsson, Master. Gosta Leonard</td>\n",
       "      <td>male</td>\n",
       "      <td>2.0</td>\n",
       "      <td>3</td>\n",
       "      <td>1</td>\n",
       "      <td>349909</td>\n",
       "      <td>21.0750</td>\n",
       "      <td>NaN</td>\n",
       "      <td>S</td>\n",
       "    </tr>\n",
       "    <tr>\n",
       "      <th>9</th>\n",
       "      <td>1</td>\n",
       "      <td>3</td>\n",
       "      <td>Johnson, Mrs. Oscar W (Elisabeth Vilhelmina Berg)</td>\n",
       "      <td>female</td>\n",
       "      <td>27.0</td>\n",
       "      <td>0</td>\n",
       "      <td>2</td>\n",
       "      <td>347742</td>\n",
       "      <td>11.1333</td>\n",
       "      <td>NaN</td>\n",
       "      <td>S</td>\n",
       "    </tr>\n",
       "    <tr>\n",
       "      <th>10</th>\n",
       "      <td>1</td>\n",
       "      <td>2</td>\n",
       "      <td>Nasser, Mrs. Nicholas (Adele Achem)</td>\n",
       "      <td>female</td>\n",
       "      <td>14.0</td>\n",
       "      <td>1</td>\n",
       "      <td>0</td>\n",
       "      <td>237736</td>\n",
       "      <td>30.0708</td>\n",
       "      <td>NaN</td>\n",
       "      <td>C</td>\n",
       "    </tr>\n",
       "  </tbody>\n",
       "</table>\n",
       "</div>"
      ],
      "text/plain": [
       "             Survived  Pclass  \\\n",
       "PassengerId                     \n",
       "1                   0       3   \n",
       "2                   1       1   \n",
       "3                   1       3   \n",
       "4                   1       1   \n",
       "5                   0       3   \n",
       "6                   0       3   \n",
       "7                   0       1   \n",
       "8                   0       3   \n",
       "9                   1       3   \n",
       "10                  1       2   \n",
       "\n",
       "                                                          Name     Sex   Age  \\\n",
       "PassengerId                                                                    \n",
       "1                                      Braund, Mr. Owen Harris    male  22.0   \n",
       "2            Cumings, Mrs. John Bradley (Florence Briggs Th...  female  38.0   \n",
       "3                                       Heikkinen, Miss. Laina  female  26.0   \n",
       "4                 Futrelle, Mrs. Jacques Heath (Lily May Peel)  female  35.0   \n",
       "5                                     Allen, Mr. William Henry    male  35.0   \n",
       "6                                             Moran, Mr. James    male   NaN   \n",
       "7                                      McCarthy, Mr. Timothy J    male  54.0   \n",
       "8                               Palsson, Master. Gosta Leonard    male   2.0   \n",
       "9            Johnson, Mrs. Oscar W (Elisabeth Vilhelmina Berg)  female  27.0   \n",
       "10                         Nasser, Mrs. Nicholas (Adele Achem)  female  14.0   \n",
       "\n",
       "             SibSp  Parch            Ticket     Fare Cabin Embarked  \n",
       "PassengerId                                                          \n",
       "1                1      0         A/5 21171   7.2500   NaN        S  \n",
       "2                1      0          PC 17599  71.2833   C85        C  \n",
       "3                0      0  STON/O2. 3101282   7.9250   NaN        S  \n",
       "4                1      0            113803  53.1000  C123        S  \n",
       "5                0      0            373450   8.0500   NaN        S  \n",
       "6                0      0            330877   8.4583   NaN        Q  \n",
       "7                0      0             17463  51.8625   E46        S  \n",
       "8                3      1            349909  21.0750   NaN        S  \n",
       "9                0      2            347742  11.1333   NaN        S  \n",
       "10               1      0            237736  30.0708   NaN        C  "
      ]
     },
     "execution_count": 22,
     "metadata": {},
     "output_type": "execute_result"
    }
   ],
   "source": [
    "import pandas as pd\n",
    "data = pd.read_csv('titanic.csv', index_col='PassengerId')\n",
    "data[:10]"
   ]
  },
  {
   "cell_type": "code",
   "execution_count": 23,
   "metadata": {},
   "outputs": [
    {
     "name": "stdout",
     "output_type": "stream",
     "text": [
      "577\n"
     ]
    }
   ],
   "source": [
    "#1\n",
    "i = data['Sex'] == 'male'\n",
    "print(data.loc[i, 'Sex'].count())"
   ]
  },
  {
   "cell_type": "code",
   "execution_count": 24,
   "metadata": {},
   "outputs": [
    {
     "name": "stdout",
     "output_type": "stream",
     "text": [
      "314\n"
     ]
    }
   ],
   "source": [
    "i = data['Sex'] == 'female'\n",
    "print(data.loc[i, 'Sex'].count())"
   ]
  },
  {
   "cell_type": "code",
   "execution_count": 25,
   "metadata": {},
   "outputs": [
    {
     "name": "stdout",
     "output_type": "stream",
     "text": [
      "38.38\n"
     ]
    }
   ],
   "source": [
    "#2\n",
    "i = data['Survived'] == 1\n",
    "pecantage = (data.loc[i,'Survived'].count() / data['Survived'].count()) * 100\n",
    "print(pecantage.round(2))"
   ]
  },
  {
   "cell_type": "code",
   "execution_count": 26,
   "metadata": {},
   "outputs": [
    {
     "name": "stdout",
     "output_type": "stream",
     "text": [
      "24.24\n"
     ]
    }
   ],
   "source": [
    "#3\n",
    "i = data['Pclass'] == 1\n",
    "pecantage = (data.loc[i,'Pclass'].count() / data['Pclass'].count()) * 100\n",
    "print(pecantage.round(2))"
   ]
  },
  {
   "cell_type": "code",
   "execution_count": 74,
   "metadata": {},
   "outputs": [
    {
     "name": "stdout",
     "output_type": "stream",
     "text": [
      "29.7\n"
     ]
    }
   ],
   "source": [
    "#4\n",
    "age = data['Age'].mean()\n",
    "print(round(age,2))"
   ]
  },
  {
   "cell_type": "code",
   "execution_count": 16,
   "metadata": {},
   "outputs": [
    {
     "name": "stdout",
     "output_type": "stream",
     "text": [
      "28.0\n"
     ]
    }
   ],
   "source": [
    "print(data['Age'].median())"
   ]
  },
  {
   "cell_type": "code",
   "execution_count": 29,
   "metadata": {},
   "outputs": [
    {
     "name": "stdout",
     "output_type": "stream",
     "text": [
      "0.41\n"
     ]
    }
   ],
   "source": [
    "#5\n",
    "corr = data['SibSp'].corr(data['Parch'])\n",
    "print(round(corr,2))"
   ]
  },
  {
   "cell_type": "code",
   "execution_count": 30,
   "metadata": {},
   "outputs": [
    {
     "name": "stdout",
     "output_type": "stream",
     "text": [
      "0.41\n"
     ]
    }
   ],
   "source": [
    "corr = data['Parch'].corr(data['SibSp'])\n",
    "print(round(corr,2))"
   ]
  },
  {
   "cell_type": "code",
   "execution_count": 73,
   "metadata": {},
   "outputs": [
    {
     "name": "stdout",
     "output_type": "stream",
     "text": [
      "Florence, Laina, Lily, Elisabeth, Adele, Marguerite, Elizabeth, Hulda, Mary, Emelia, , Anna, Torborg, Selma, Ellen, Marie, Mary, Augusta, Jamila, Johanna, Dorothy, Simonne, Margaret, Bridget, Josefine, Myna, Elizabeth, Emily, Constance, Amelie, Elizabeth, Erna, Lillian, Elizabeth, Brigdet, Bertha, Maria, Mabel, Ada, Matilda, Anna, Bertha, Hileni, Katriina, Malake, Ellis, Susan, Anna, Grace, Mathilde, Helen, Sultana), Anna, Elin, Robina, Edith, Katherine, Elizabeth, Edith, Anna, Eleanor, Ann, Constance, Luise, Johanna, Rosa), Carla, Margaret, Elise, Margaret, Henriette, Telma, Helen, Clear, Madeleine, Eliina, Albina, Mathilde, Irene, Lillian, Alice, Marjorie, Thamine, Katherine, Agda, Anna), Elna, Helena, Hanne, , Gladys, Anna, Lutie, Delia, Edith, Amelia, Elizabeth, Hanora, Kornelia, Augusta, Rosa, Kate, Ellen, Helen, Aloisia, Helen, Helene, Anna, Nora, Margaret, Maria, Laura, Margaret, Emily, Anna, Helmina, Miriam, Mary, Margaretta, Hilda, Sylvia, Marie, Ada, Emily, Jean, Agnes, Clara, Elizabeth, Alice, Amelia, Marion, Mary, Elsie, Annie, Mary, Helen, Catherine, Anna, Mantoura, Annie, Stina, Leila, Aurora, Rosalie, Maria, Mary, Kate, Bertha, Marjorie, Agnes, Elina, Jessie, Mari, Marija, Ida, Daisy, Annie, Lulu, Lyyli, Catharina, Anna, Ada, Kate, Florence, Alice, Lucile, Doolina, Emily, Esther, Madeleine, Marie, Marion), Ellen, Helene, Ada, Marie, Ida, Hildur, Hedwig), Jeannie, Jane, Elizabeth, Bessie, Mary, Bridget, Kristina, Roberta, Jane, Elizabeth, Amelia, Florence, Anne, Ida, Lucy, Phyllis, Catherine, Marija, Eva, Bertha, Hedwig, Harriet, Ingeborg, Sigrid, Ethel, Velin, Tillie, Emma), (Marion, Alma, Charlotte, Mary, Ethel, Alice, Maria, Julie, Marian, Ruth, Martha, Mary, Jessie, Amy, Juliette, Elizabeth, Alfrida, Margaret, Alice, Cordelia, Marion, Gretchen, Mabel, Mary, Maria, Margit, Eugenie, Amy, Elsie, Hanora, Hanora, Catherine), Juliet, Elizabeth, Anna, Augusta, Katie, Georgette, Manca, Katherine, Madeleine, Saiide, , Alice, Caroline, Edwina, Annie, Lillian, Margareth, Pieta, Elisabeth, Margaret, Susan, Anna, Joan, Jane, Lucile, Anna, Mary, Mary), Eliza, Virginia, Elisabeth, Banoura, Vera, Anna, Stella, , Rosalie, Charlotte, Ellen, Bertha, Ebba, Wendla, Clara, Beila), Martha, Selini, Sara, Augusta, Edwiga, Nourelain, Mary, Lilian, Leah, Mary, Latifa, Margaret, Dorothy, Karolina), Asuncion, Sallie, Hannah, Adele, Lily, Imanita, Gerda, Margaret, Margaret, Catherine\n"
     ]
    }
   ],
   "source": [
    "from itertools import chain\n",
    "from collections import Counter\n",
    "\n",
    "def most_common(lst):\n",
    "    return max(((item, lst.count(item)) for item in set(lst)), key=lambda a: a[1])[0]\n",
    "\n",
    "def findFirstName(fullName):\n",
    "    abbr = fullName.split(\",\")[1].split()[0]\n",
    "    name = fullName.split(\",\")[1]\n",
    "    if(abbr == \"Miss.\"):\n",
    "        return name.split()[1]\n",
    "    elif(abbr == \"Mrs.\"):\n",
    "        preName = list(filter(lambda x: x.startswith('('), name.split()))\n",
    "        return preName[0][1:] if (len(preName) > 0) else \"\"\n",
    "    \n",
    "def findFemaletName(fullName):\n",
    "    abbr = fullName.split(\",\")[1].split()[0]\n",
    "    return abbr == \"Mrs.\" or abbr == \"Miss.\"\n",
    "\n",
    "i = data['Name'].apply(findFemaletName)\n",
    "woomen = data.loc[i, 'Name']\n",
    "names = woomen.apply(findFirstName)\n",
    "print(*names, sep = \", \") "
   ]
  },
  {
   "cell_type": "code",
   "execution_count": null,
   "metadata": {},
   "outputs": [],
   "source": []
  }
 ],
 "metadata": {
  "kernelspec": {
   "display_name": "Python 3",
   "language": "python",
   "name": "python3"
  },
  "language_info": {
   "codemirror_mode": {
    "name": "ipython",
    "version": 3
   },
   "file_extension": ".py",
   "mimetype": "text/x-python",
   "name": "python",
   "nbconvert_exporter": "python",
   "pygments_lexer": "ipython3",
   "version": "3.8.3"
  }
 },
 "nbformat": 4,
 "nbformat_minor": 4
}
